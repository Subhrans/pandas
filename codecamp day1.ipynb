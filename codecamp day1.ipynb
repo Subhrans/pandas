{
 "cells": [
  {
   "cell_type": "code",
   "execution_count": 9,
   "id": "ef8453f4",
   "metadata": {},
   "outputs": [],
   "source": [
    "import numpy as np"
   ]
  },
  {
   "cell_type": "code",
   "execution_count": 10,
   "id": "1e6ed783",
   "metadata": {},
   "outputs": [
    {
     "data": {
      "text/plain": [
       "array([1, 2, 3, 4])"
      ]
     },
     "execution_count": 10,
     "metadata": {},
     "output_type": "execute_result"
    }
   ],
   "source": [
    "np.array([1,2,3,4])"
   ]
  },
  {
   "cell_type": "code",
   "execution_count": 11,
   "id": "6a3559cd",
   "metadata": {},
   "outputs": [],
   "source": [
    "w1,w2,w3=0.3,0.2,0.5\n",
    "kanto_temp=73\n",
    "kanto_rainfall = 67\n",
    "kanto_humidity = 43"
   ]
  },
  {
   "cell_type": "code",
   "execution_count": 13,
   "id": "331f1014",
   "metadata": {},
   "outputs": [
    {
     "data": {
      "text/plain": [
       "56.8"
      ]
     },
     "execution_count": 13,
     "metadata": {},
     "output_type": "execute_result"
    }
   ],
   "source": [
    "kanto_yield_apples = kanto_temp *w1 + kanto_rainfall * w2 + kanto_humidity *w3\n",
    "kanto_yield_apples"
   ]
  },
  {
   "cell_type": "code",
   "execution_count": 20,
   "id": "b3846257",
   "metadata": {},
   "outputs": [],
   "source": [
    "kanto_detail=[73,67,43]\n",
    "weights=[0.3,0.2,0.5]"
   ]
  },
  {
   "cell_type": "code",
   "execution_count": 21,
   "id": "e295e047",
   "metadata": {},
   "outputs": [
    {
     "data": {
      "text/plain": [
       "56.8"
      ]
     },
     "execution_count": 21,
     "metadata": {},
     "output_type": "execute_result"
    }
   ],
   "source": [
    "np.dot(kanto_detail,weights)            # np.dot =  dot product \n",
    "#(it maps with each element in same position with diffent list  and multiply them and then sum of all values)"
   ]
  },
  {
   "cell_type": "code",
   "execution_count": 22,
   "id": "b527935a",
   "metadata": {},
   "outputs": [
    {
     "ename": "TypeError",
     "evalue": "can't multiply sequence by non-int of type 'list'",
     "output_type": "error",
     "traceback": [
      "\u001b[1;31m---------------------------------------------------------------------------\u001b[0m",
      "\u001b[1;31mTypeError\u001b[0m                                 Traceback (most recent call last)",
      "\u001b[1;32m<ipython-input-22-b4ee5768771d>\u001b[0m in \u001b[0;36m<module>\u001b[1;34m\u001b[0m\n\u001b[1;32m----> 1\u001b[1;33m \u001b[0msum\u001b[0m\u001b[1;33m(\u001b[0m\u001b[0mkanto_detail\u001b[0m\u001b[1;33m*\u001b[0m\u001b[0mweights\u001b[0m\u001b[1;33m)\u001b[0m\u001b[1;33m\u001b[0m\u001b[1;33m\u001b[0m\u001b[0m\n\u001b[0m",
      "\u001b[1;31mTypeError\u001b[0m: can't multiply sequence by non-int of type 'list'"
     ]
    }
   ],
   "source": [
    "sum(kanto_detail*weights)"
   ]
  },
  {
   "cell_type": "code",
   "execution_count": 25,
   "id": "5462e3f7",
   "metadata": {},
   "outputs": [],
   "source": [
    "kanto=np.array([73,67,43])\n",
    "weights=np.array(weights)"
   ]
  },
  {
   "cell_type": "code",
   "execution_count": 28,
   "id": "25c6301a",
   "metadata": {},
   "outputs": [
    {
     "data": {
      "text/plain": [
       "56.8"
      ]
     },
     "execution_count": 28,
     "metadata": {},
     "output_type": "execute_result"
    }
   ],
   "source": [
    "sum(kanto*weights)     # sum is defualt python function"
   ]
  },
  {
   "cell_type": "code",
   "execution_count": 30,
   "id": "269fcfe9",
   "metadata": {},
   "outputs": [
    {
     "data": {
      "text/plain": [
       "56.8"
      ]
     },
     "execution_count": 30,
     "metadata": {},
     "output_type": "execute_result"
    }
   ],
   "source": [
    "(kanto*weights).sum()   # .sum() this is fumction that written in numpy"
   ]
  },
  {
   "cell_type": "code",
   "execution_count": 60,
   "id": "4caf5f49",
   "metadata": {},
   "outputs": [],
   "source": [
    "arr1=list(range(10000000))\n",
    "arr2=list(range(10000000,20000000))"
   ]
  },
  {
   "cell_type": "code",
   "execution_count": 70,
   "id": "50d17859",
   "metadata": {},
   "outputs": [
    {
     "data": {
      "text/plain": [
       "10000000"
      ]
     },
     "execution_count": 70,
     "metadata": {},
     "output_type": "execute_result"
    }
   ],
   "source": [
    "arr1_np=np.array(arr1)\n",
    "arr2_np=np.array(arr2)\n",
    "len(arr1_np)\n",
    "len(arr2_np)"
   ]
  },
  {
   "cell_type": "code",
   "execution_count": 68,
   "id": "1fdd51ee",
   "metadata": {},
   "outputs": [
    {
     "name": "stdout",
     "output_type": "stream",
     "text": [
      "Wall time: 13 ms\n"
     ]
    },
    {
     "data": {
      "text/plain": [
       "690258880"
      ]
     },
     "execution_count": 68,
     "metadata": {},
     "output_type": "execute_result"
    }
   ],
   "source": [
    "%%time\n",
    "np.dot(arr1_np,arr2_np)"
   ]
  },
  {
   "cell_type": "code",
   "execution_count": 69,
   "id": "d0f6767d",
   "metadata": {},
   "outputs": [
    {
     "name": "stdout",
     "output_type": "stream",
     "text": [
      "Wall time: 4.65 s\n"
     ]
    },
    {
     "data": {
      "text/plain": [
       "833333233333335000000"
      ]
     },
     "execution_count": 69,
     "metadata": {},
     "output_type": "execute_result"
    }
   ],
   "source": [
    "%%time\n",
    "result=0\n",
    "for i,j in zip(arr1,arr2):\n",
    "    result+=i*j\n",
    "result"
   ]
  },
  {
   "cell_type": "code",
   "execution_count": null,
   "id": "0b020fa3",
   "metadata": {},
   "outputs": [],
   "source": []
  }
 ],
 "metadata": {
  "kernelspec": {
   "display_name": "Python 3",
   "language": "python",
   "name": "python3"
  },
  "language_info": {
   "codemirror_mode": {
    "name": "ipython",
    "version": 3
   },
   "file_extension": ".py",
   "mimetype": "text/x-python",
   "name": "python",
   "nbconvert_exporter": "python",
   "pygments_lexer": "ipython3",
   "version": "3.9.4"
  }
 },
 "nbformat": 4,
 "nbformat_minor": 5
}
