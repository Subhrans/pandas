{
 "cells": [
  {
   "cell_type": "code",
   "execution_count": 1,
   "metadata": {},
   "outputs": [],
   "source": [
    "import numpy as np\n",
    "import pandas as pd"
   ]
  },
  {
   "cell_type": "code",
   "execution_count": 2,
   "metadata": {},
   "outputs": [],
   "source": [
    "dict1={\n",
    "    \"name\":['subhransu','pallai','sidharth'],\n",
    "    \"UID\": ['19MCA1027','19MCA17','19MCA1026'],\n",
    "    \"location\":['asansol','kolkata','bojboj'],\n",
    "}"
   ]
  },
  {
   "cell_type": "code",
   "execution_count": 3,
   "metadata": {},
   "outputs": [],
   "source": [
    "df=pd.DataFrame(dict1)"
   ]
  },
  {
   "cell_type": "code",
   "execution_count": 4,
   "metadata": {},
   "outputs": [],
   "source": [
    "df.to_csv(\"first.csv\")"
   ]
  },
  {
   "cell_type": "code",
   "execution_count": 5,
   "metadata": {},
   "outputs": [
    {
     "data": {
      "text/html": [
       "<div>\n",
       "<style scoped>\n",
       "    .dataframe tbody tr th:only-of-type {\n",
       "        vertical-align: middle;\n",
       "    }\n",
       "\n",
       "    .dataframe tbody tr th {\n",
       "        vertical-align: top;\n",
       "    }\n",
       "\n",
       "    .dataframe thead th {\n",
       "        text-align: right;\n",
       "    }\n",
       "</style>\n",
       "<table border=\"1\" class=\"dataframe\">\n",
       "  <thead>\n",
       "    <tr style=\"text-align: right;\">\n",
       "      <th></th>\n",
       "      <th>name</th>\n",
       "      <th>UID</th>\n",
       "      <th>location</th>\n",
       "    </tr>\n",
       "  </thead>\n",
       "  <tbody>\n",
       "    <tr>\n",
       "      <th>0</th>\n",
       "      <td>subhransu</td>\n",
       "      <td>19MCA1027</td>\n",
       "      <td>asansol</td>\n",
       "    </tr>\n",
       "    <tr>\n",
       "      <th>1</th>\n",
       "      <td>pallai</td>\n",
       "      <td>19MCA17</td>\n",
       "      <td>kolkata</td>\n",
       "    </tr>\n",
       "    <tr>\n",
       "      <th>2</th>\n",
       "      <td>sidharth</td>\n",
       "      <td>19MCA1026</td>\n",
       "      <td>bojboj</td>\n",
       "    </tr>\n",
       "  </tbody>\n",
       "</table>\n",
       "</div>"
      ],
      "text/plain": [
       "        name        UID location\n",
       "0  subhransu  19MCA1027  asansol\n",
       "1     pallai    19MCA17  kolkata\n",
       "2   sidharth  19MCA1026   bojboj"
      ]
     },
     "execution_count": 5,
     "metadata": {},
     "output_type": "execute_result"
    }
   ],
   "source": [
    "df"
   ]
  },
  {
   "cell_type": "code",
   "execution_count": 6,
   "metadata": {},
   "outputs": [],
   "source": [
    "df.to_csv(\"first_index_false.csv\",index=False)"
   ]
  },
  {
   "cell_type": "code",
   "execution_count": 7,
   "metadata": {},
   "outputs": [],
   "source": [
    "import numpy as np"
   ]
  },
  {
   "cell_type": "code",
   "execution_count": 8,
   "metadata": {},
   "outputs": [
    {
     "name": "stdout",
     "output_type": "stream",
     "text": [
      "[ 1  2  3  4  6  7  8  9 10]\n"
     ]
    }
   ],
   "source": [
    "arr=np.array([1,2,3,4,6,7,8,9,10])\n",
    "print(arr)"
   ]
  },
  {
   "cell_type": "code",
   "execution_count": 9,
   "metadata": {},
   "outputs": [
    {
     "name": "stdout",
     "output_type": "stream",
     "text": [
      "Statistical Data\n",
      "Mean 11.0\n",
      "Median 11.0\n",
      "[ 2  4  6  8 10 12 14 16 18 20]\n"
     ]
    }
   ],
   "source": [
    "def even_number(n):\n",
    "    arr=np.array([n[i] for i in range(len(n)) if n[i]%2==0])\n",
    "    print(\"Statistical Data\")\n",
    "    print(\"Mean\",np.mean(arr))\n",
    "    print(\"Median\",np.median(arr))\n",
    "    print(arr)\n",
    "\n",
    "even_number(np.array([1,2,3,4,6,7,8,9,10,11,12,13,14,15,16,17,18,19,20]))"
   ]
  },
  {
   "cell_type": "code",
   "execution_count": 10,
   "metadata": {},
   "outputs": [
    {
     "name": "stdout",
     "output_type": "stream",
     "text": [
      "standerd Deviation and of arr :  1.5234788000891208\n",
      "Shape of array:\n",
      " (3, 3)\n",
      "Covarinace matrix of x:\n",
      " [[4.33333333 2.83333333 2.        ]\n",
      " [2.83333333 2.33333333 1.5       ]\n",
      " [2.         1.5        1.        ]]\n",
      "variance of arr :  2.3209876543209877\n"
     ]
    }
   ],
   "source": [
    "import numpy as np\n",
    "    \n",
    "arr=np.array([[0, 3, 4], [1, 2, 4], [3, 4, 5]])\n",
    "  \n",
    "print(\"standerd Deviation and of arr : \", np.std(arr))\n",
    "print(\"Shape of array:\\n\", np.shape(arr))\n",
    "  \n",
    "print(\"Covarinace matrix of x:\\n\", np.cov(arr))\n",
    "print(\"variance of arr : \", np.var(arr))"
   ]
  },
  {
   "cell_type": "code",
   "execution_count": null,
   "metadata": {},
   "outputs": [],
   "source": []
  },
  {
   "cell_type": "code",
   "execution_count": 11,
   "metadata": {},
   "outputs": [
    {
     "name": "stdout",
     "output_type": "stream",
     "text": [
      "[ 2  4  6  8 10 12 14 16 18 20]\n"
     ]
    }
   ],
   "source": [
    "print(np.array([i for i in [1,2,3,4,5,6,7,8,9,10,11,12,13,14,15,16,17,18,19,20] if i%2==0]))"
   ]
  },
  {
   "cell_type": "code",
   "execution_count": 12,
   "metadata": {
    "scrolled": true
   },
   "outputs": [
    {
     "data": {
      "text/plain": [
       "array([0, 1, 2, 3, 4, 5, 6, 7, 8, 9])"
      ]
     },
     "execution_count": 12,
     "metadata": {},
     "output_type": "execute_result"
    }
   ],
   "source": [
    "np.arange(10)"
   ]
  },
  {
   "cell_type": "code",
   "execution_count": 13,
   "metadata": {},
   "outputs": [
    {
     "data": {
      "text/plain": [
       "array([0.64856862, 0.59588835, 0.05011238, 0.27520523, 0.01954859])"
      ]
     },
     "execution_count": 13,
     "metadata": {},
     "output_type": "execute_result"
    }
   ],
   "source": [
    "np.array(np.random.rand(5))"
   ]
  },
  {
   "cell_type": "code",
   "execution_count": 14,
   "metadata": {},
   "outputs": [],
   "source": [
    "ser=pd.Series(np.random.rand(10))"
   ]
  },
  {
   "cell_type": "code",
   "execution_count": 15,
   "metadata": {},
   "outputs": [
    {
     "data": {
      "text/plain": [
       "pandas.core.series.Series"
      ]
     },
     "execution_count": 15,
     "metadata": {},
     "output_type": "execute_result"
    }
   ],
   "source": [
    "type(ser)"
   ]
  },
  {
   "cell_type": "code",
   "execution_count": 16,
   "metadata": {},
   "outputs": [
    {
     "data": {
      "text/plain": [
       "0    0.056253\n",
       "1    0.228071\n",
       "2    0.364779\n",
       "3    0.190021\n",
       "4    0.798566\n",
       "5    0.819702\n",
       "6    0.675236\n",
       "7    0.988593\n",
       "8    0.988936\n",
       "9    0.089768\n",
       "dtype: float64"
      ]
     },
     "execution_count": 16,
     "metadata": {},
     "output_type": "execute_result"
    }
   ],
   "source": [
    "ser"
   ]
  },
  {
   "cell_type": "code",
   "execution_count": 17,
   "metadata": {},
   "outputs": [],
   "source": [
    "newdf=pd.DataFrame(np.random.rand(334,5),index=np.arange(334))"
   ]
  },
  {
   "cell_type": "code",
   "execution_count": 18,
   "metadata": {},
   "outputs": [
    {
     "data": {
      "text/html": [
       "<div>\n",
       "<style scoped>\n",
       "    .dataframe tbody tr th:only-of-type {\n",
       "        vertical-align: middle;\n",
       "    }\n",
       "\n",
       "    .dataframe tbody tr th {\n",
       "        vertical-align: top;\n",
       "    }\n",
       "\n",
       "    .dataframe thead th {\n",
       "        text-align: right;\n",
       "    }\n",
       "</style>\n",
       "<table border=\"1\" class=\"dataframe\">\n",
       "  <thead>\n",
       "    <tr style=\"text-align: right;\">\n",
       "      <th></th>\n",
       "      <th>0</th>\n",
       "      <th>1</th>\n",
       "      <th>2</th>\n",
       "      <th>3</th>\n",
       "      <th>4</th>\n",
       "    </tr>\n",
       "  </thead>\n",
       "  <tbody>\n",
       "    <tr>\n",
       "      <th>329</th>\n",
       "      <td>0.435078</td>\n",
       "      <td>0.007865</td>\n",
       "      <td>0.124035</td>\n",
       "      <td>0.601214</td>\n",
       "      <td>0.771733</td>\n",
       "    </tr>\n",
       "    <tr>\n",
       "      <th>330</th>\n",
       "      <td>0.490667</td>\n",
       "      <td>0.158212</td>\n",
       "      <td>0.038281</td>\n",
       "      <td>0.595858</td>\n",
       "      <td>0.331494</td>\n",
       "    </tr>\n",
       "    <tr>\n",
       "      <th>331</th>\n",
       "      <td>0.843343</td>\n",
       "      <td>0.944768</td>\n",
       "      <td>0.649458</td>\n",
       "      <td>0.459565</td>\n",
       "      <td>0.779539</td>\n",
       "    </tr>\n",
       "    <tr>\n",
       "      <th>332</th>\n",
       "      <td>0.231131</td>\n",
       "      <td>0.174878</td>\n",
       "      <td>0.134232</td>\n",
       "      <td>0.407107</td>\n",
       "      <td>0.592837</td>\n",
       "    </tr>\n",
       "    <tr>\n",
       "      <th>333</th>\n",
       "      <td>0.344476</td>\n",
       "      <td>0.617332</td>\n",
       "      <td>0.360412</td>\n",
       "      <td>0.133578</td>\n",
       "      <td>0.249501</td>\n",
       "    </tr>\n",
       "  </tbody>\n",
       "</table>\n",
       "</div>"
      ],
      "text/plain": [
       "            0         1         2         3         4\n",
       "329  0.435078  0.007865  0.124035  0.601214  0.771733\n",
       "330  0.490667  0.158212  0.038281  0.595858  0.331494\n",
       "331  0.843343  0.944768  0.649458  0.459565  0.779539\n",
       "332  0.231131  0.174878  0.134232  0.407107  0.592837\n",
       "333  0.344476  0.617332  0.360412  0.133578  0.249501"
      ]
     },
     "execution_count": 18,
     "metadata": {},
     "output_type": "execute_result"
    }
   ],
   "source": [
    "newdf.tail()"
   ]
  },
  {
   "cell_type": "code",
   "execution_count": 19,
   "metadata": {},
   "outputs": [
    {
     "data": {
      "text/html": [
       "<div>\n",
       "<style scoped>\n",
       "    .dataframe tbody tr th:only-of-type {\n",
       "        vertical-align: middle;\n",
       "    }\n",
       "\n",
       "    .dataframe tbody tr th {\n",
       "        vertical-align: top;\n",
       "    }\n",
       "\n",
       "    .dataframe thead th {\n",
       "        text-align: right;\n",
       "    }\n",
       "</style>\n",
       "<table border=\"1\" class=\"dataframe\">\n",
       "  <thead>\n",
       "    <tr style=\"text-align: right;\">\n",
       "      <th></th>\n",
       "      <th>0</th>\n",
       "      <th>1</th>\n",
       "      <th>2</th>\n",
       "      <th>3</th>\n",
       "      <th>4</th>\n",
       "    </tr>\n",
       "  </thead>\n",
       "  <tbody>\n",
       "    <tr>\n",
       "      <th>count</th>\n",
       "      <td>334.000000</td>\n",
       "      <td>334.000000</td>\n",
       "      <td>334.000000</td>\n",
       "      <td>334.000000</td>\n",
       "      <td>334.000000</td>\n",
       "    </tr>\n",
       "    <tr>\n",
       "      <th>mean</th>\n",
       "      <td>0.498481</td>\n",
       "      <td>0.510918</td>\n",
       "      <td>0.484439</td>\n",
       "      <td>0.491169</td>\n",
       "      <td>0.473020</td>\n",
       "    </tr>\n",
       "    <tr>\n",
       "      <th>std</th>\n",
       "      <td>0.279589</td>\n",
       "      <td>0.304481</td>\n",
       "      <td>0.277292</td>\n",
       "      <td>0.289403</td>\n",
       "      <td>0.278697</td>\n",
       "    </tr>\n",
       "    <tr>\n",
       "      <th>min</th>\n",
       "      <td>0.003114</td>\n",
       "      <td>0.002798</td>\n",
       "      <td>0.000035</td>\n",
       "      <td>0.001384</td>\n",
       "      <td>0.004375</td>\n",
       "    </tr>\n",
       "    <tr>\n",
       "      <th>25%</th>\n",
       "      <td>0.251742</td>\n",
       "      <td>0.227632</td>\n",
       "      <td>0.245920</td>\n",
       "      <td>0.236503</td>\n",
       "      <td>0.236846</td>\n",
       "    </tr>\n",
       "    <tr>\n",
       "      <th>50%</th>\n",
       "      <td>0.498945</td>\n",
       "      <td>0.504679</td>\n",
       "      <td>0.473334</td>\n",
       "      <td>0.481471</td>\n",
       "      <td>0.445880</td>\n",
       "    </tr>\n",
       "    <tr>\n",
       "      <th>75%</th>\n",
       "      <td>0.721199</td>\n",
       "      <td>0.783052</td>\n",
       "      <td>0.710986</td>\n",
       "      <td>0.736202</td>\n",
       "      <td>0.702235</td>\n",
       "    </tr>\n",
       "    <tr>\n",
       "      <th>max</th>\n",
       "      <td>0.997602</td>\n",
       "      <td>0.998683</td>\n",
       "      <td>0.987347</td>\n",
       "      <td>0.997419</td>\n",
       "      <td>0.995871</td>\n",
       "    </tr>\n",
       "  </tbody>\n",
       "</table>\n",
       "</div>"
      ],
      "text/plain": [
       "                0           1           2           3           4\n",
       "count  334.000000  334.000000  334.000000  334.000000  334.000000\n",
       "mean     0.498481    0.510918    0.484439    0.491169    0.473020\n",
       "std      0.279589    0.304481    0.277292    0.289403    0.278697\n",
       "min      0.003114    0.002798    0.000035    0.001384    0.004375\n",
       "25%      0.251742    0.227632    0.245920    0.236503    0.236846\n",
       "50%      0.498945    0.504679    0.473334    0.481471    0.445880\n",
       "75%      0.721199    0.783052    0.710986    0.736202    0.702235\n",
       "max      0.997602    0.998683    0.987347    0.997419    0.995871"
      ]
     },
     "execution_count": 19,
     "metadata": {},
     "output_type": "execute_result"
    }
   ],
   "source": [
    "newdf.describe()"
   ]
  },
  {
   "cell_type": "code",
   "execution_count": 20,
   "metadata": {},
   "outputs": [
    {
     "data": {
      "text/plain": [
       "Int64Index([  0,   1,   2,   3,   4,   5,   6,   7,   8,   9,\n",
       "            ...\n",
       "            324, 325, 326, 327, 328, 329, 330, 331, 332, 333],\n",
       "           dtype='int64', length=334)"
      ]
     },
     "execution_count": 20,
     "metadata": {},
     "output_type": "execute_result"
    }
   ],
   "source": [
    "newdf.index"
   ]
  },
  {
   "cell_type": "code",
   "execution_count": 21,
   "metadata": {},
   "outputs": [
    {
     "data": {
      "text/plain": [
       "RangeIndex(start=0, stop=5, step=1)"
      ]
     },
     "execution_count": 21,
     "metadata": {},
     "output_type": "execute_result"
    }
   ],
   "source": [
    "newdf.columns"
   ]
  },
  {
   "cell_type": "code",
   "execution_count": 25,
   "metadata": {},
   "outputs": [
    {
     "data": {
      "text/plain": [
       "array([[0.07665034, 0.92794906, 0.272196  , 0.93455307, 0.05965371],\n",
       "       [0.33854152, 0.11628632, 0.0886717 , 0.30648457, 0.11503016],\n",
       "       [0.49571156, 0.3208376 , 0.39656209, 0.2160246 , 0.89371397],\n",
       "       ...,\n",
       "       [0.84334308, 0.94476773, 0.64945831, 0.45956452, 0.77953855],\n",
       "       [0.2311315 , 0.17487751, 0.13423168, 0.40710707, 0.59283715],\n",
       "       [0.34447587, 0.61733184, 0.36041181, 0.13357762, 0.2495013 ]])"
      ]
     },
     "execution_count": 25,
     "metadata": {},
     "output_type": "execute_result"
    }
   ],
   "source": [
    "newdf.to_numpy()"
   ]
  },
  {
   "cell_type": "code",
   "execution_count": 26,
   "metadata": {},
   "outputs": [],
   "source": [
    "newdf[0][0]=0.3"
   ]
  },
  {
   "cell_type": "code",
   "execution_count": 27,
   "metadata": {},
   "outputs": [
    {
     "data": {
      "text/html": [
       "<div>\n",
       "<style scoped>\n",
       "    .dataframe tbody tr th:only-of-type {\n",
       "        vertical-align: middle;\n",
       "    }\n",
       "\n",
       "    .dataframe tbody tr th {\n",
       "        vertical-align: top;\n",
       "    }\n",
       "\n",
       "    .dataframe thead th {\n",
       "        text-align: right;\n",
       "    }\n",
       "</style>\n",
       "<table border=\"1\" class=\"dataframe\">\n",
       "  <thead>\n",
       "    <tr style=\"text-align: right;\">\n",
       "      <th></th>\n",
       "      <th>0</th>\n",
       "      <th>1</th>\n",
       "      <th>2</th>\n",
       "      <th>3</th>\n",
       "      <th>4</th>\n",
       "    </tr>\n",
       "  </thead>\n",
       "  <tbody>\n",
       "    <tr>\n",
       "      <th>0</th>\n",
       "      <td>0.300000</td>\n",
       "      <td>0.927949</td>\n",
       "      <td>0.272196</td>\n",
       "      <td>0.934553</td>\n",
       "      <td>0.059654</td>\n",
       "    </tr>\n",
       "    <tr>\n",
       "      <th>1</th>\n",
       "      <td>0.338542</td>\n",
       "      <td>0.116286</td>\n",
       "      <td>0.088672</td>\n",
       "      <td>0.306485</td>\n",
       "      <td>0.115030</td>\n",
       "    </tr>\n",
       "    <tr>\n",
       "      <th>2</th>\n",
       "      <td>0.495712</td>\n",
       "      <td>0.320838</td>\n",
       "      <td>0.396562</td>\n",
       "      <td>0.216025</td>\n",
       "      <td>0.893714</td>\n",
       "    </tr>\n",
       "    <tr>\n",
       "      <th>3</th>\n",
       "      <td>0.571288</td>\n",
       "      <td>0.385922</td>\n",
       "      <td>0.841704</td>\n",
       "      <td>0.399461</td>\n",
       "      <td>0.643248</td>\n",
       "    </tr>\n",
       "    <tr>\n",
       "      <th>4</th>\n",
       "      <td>0.464481</td>\n",
       "      <td>0.983711</td>\n",
       "      <td>0.677798</td>\n",
       "      <td>0.411143</td>\n",
       "      <td>0.223468</td>\n",
       "    </tr>\n",
       "  </tbody>\n",
       "</table>\n",
       "</div>"
      ],
      "text/plain": [
       "          0         1         2         3         4\n",
       "0  0.300000  0.927949  0.272196  0.934553  0.059654\n",
       "1  0.338542  0.116286  0.088672  0.306485  0.115030\n",
       "2  0.495712  0.320838  0.396562  0.216025  0.893714\n",
       "3  0.571288  0.385922  0.841704  0.399461  0.643248\n",
       "4  0.464481  0.983711  0.677798  0.411143  0.223468"
      ]
     },
     "execution_count": 27,
     "metadata": {},
     "output_type": "execute_result"
    }
   ],
   "source": [
    "newdf.head()"
   ]
  },
  {
   "cell_type": "code",
   "execution_count": 30,
   "metadata": {},
   "outputs": [
    {
     "name": "stderr",
     "output_type": "stream",
     "text": [
      "<ipython-input-30-7ce2d72b65e9>:1: SettingWithCopyWarning: \n",
      "A value is trying to be set on a copy of a slice from a DataFrame\n",
      "\n",
      "See the caveats in the documentation: https://pandas.pydata.org/pandas-docs/stable/user_guide/indexing.html#returning-a-view-versus-a-copy\n",
      "  newdf[0][1]=\"joy\"       # newdf[column][row]=\"data\"\n"
     ]
    }
   ],
   "source": [
    "newdf[0][1]=\"joy\"       # newdf[column][row]=\"data\""
   ]
  },
  {
   "cell_type": "code",
   "execution_count": 31,
   "metadata": {},
   "outputs": [
    {
     "data": {
      "text/html": [
       "<div>\n",
       "<style scoped>\n",
       "    .dataframe tbody tr th:only-of-type {\n",
       "        vertical-align: middle;\n",
       "    }\n",
       "\n",
       "    .dataframe tbody tr th {\n",
       "        vertical-align: top;\n",
       "    }\n",
       "\n",
       "    .dataframe thead th {\n",
       "        text-align: right;\n",
       "    }\n",
       "</style>\n",
       "<table border=\"1\" class=\"dataframe\">\n",
       "  <thead>\n",
       "    <tr style=\"text-align: right;\">\n",
       "      <th></th>\n",
       "      <th>0</th>\n",
       "      <th>1</th>\n",
       "      <th>2</th>\n",
       "      <th>3</th>\n",
       "      <th>4</th>\n",
       "    </tr>\n",
       "  </thead>\n",
       "  <tbody>\n",
       "    <tr>\n",
       "      <th>0</th>\n",
       "      <td>0.3</td>\n",
       "      <td>0.927949</td>\n",
       "      <td>0.272196</td>\n",
       "      <td>0.934553</td>\n",
       "      <td>0.059654</td>\n",
       "    </tr>\n",
       "    <tr>\n",
       "      <th>1</th>\n",
       "      <td>joy</td>\n",
       "      <td>0.116286</td>\n",
       "      <td>0.088672</td>\n",
       "      <td>0.306485</td>\n",
       "      <td>0.115030</td>\n",
       "    </tr>\n",
       "    <tr>\n",
       "      <th>2</th>\n",
       "      <td>0.495712</td>\n",
       "      <td>0.320838</td>\n",
       "      <td>0.396562</td>\n",
       "      <td>0.216025</td>\n",
       "      <td>0.893714</td>\n",
       "    </tr>\n",
       "    <tr>\n",
       "      <th>3</th>\n",
       "      <td>0.571288</td>\n",
       "      <td>0.385922</td>\n",
       "      <td>0.841704</td>\n",
       "      <td>0.399461</td>\n",
       "      <td>0.643248</td>\n",
       "    </tr>\n",
       "    <tr>\n",
       "      <th>4</th>\n",
       "      <td>0.464481</td>\n",
       "      <td>0.983711</td>\n",
       "      <td>0.677798</td>\n",
       "      <td>0.411143</td>\n",
       "      <td>0.223468</td>\n",
       "    </tr>\n",
       "  </tbody>\n",
       "</table>\n",
       "</div>"
      ],
      "text/plain": [
       "          0         1         2         3         4\n",
       "0       0.3  0.927949  0.272196  0.934553  0.059654\n",
       "1       joy  0.116286  0.088672  0.306485  0.115030\n",
       "2  0.495712  0.320838  0.396562  0.216025  0.893714\n",
       "3  0.571288  0.385922  0.841704  0.399461  0.643248\n",
       "4  0.464481  0.983711  0.677798  0.411143  0.223468"
      ]
     },
     "execution_count": 31,
     "metadata": {},
     "output_type": "execute_result"
    }
   ],
   "source": [
    "newdf.head()"
   ]
  },
  {
   "cell_type": "code",
   "execution_count": 42,
   "metadata": {},
   "outputs": [
    {
     "data": {
      "text/plain": [
       "0     object\n",
       "1    float64\n",
       "2    float64\n",
       "3    float64\n",
       "4    float64\n",
       "dtype: object"
      ]
     },
     "execution_count": 42,
     "metadata": {},
     "output_type": "execute_result"
    }
   ],
   "source": [
    "newdf.dtypes"
   ]
  },
  {
   "cell_type": "code",
   "execution_count": 43,
   "metadata": {},
   "outputs": [
    {
     "data": {
      "text/html": [
       "<div>\n",
       "<style scoped>\n",
       "    .dataframe tbody tr th:only-of-type {\n",
       "        vertical-align: middle;\n",
       "    }\n",
       "\n",
       "    .dataframe tbody tr th {\n",
       "        vertical-align: top;\n",
       "    }\n",
       "\n",
       "    .dataframe thead th {\n",
       "        text-align: right;\n",
       "    }\n",
       "</style>\n",
       "<table border=\"1\" class=\"dataframe\">\n",
       "  <thead>\n",
       "    <tr style=\"text-align: right;\">\n",
       "      <th></th>\n",
       "      <th>0</th>\n",
       "      <th>1</th>\n",
       "      <th>2</th>\n",
       "      <th>3</th>\n",
       "      <th>4</th>\n",
       "      <th>5</th>\n",
       "      <th>6</th>\n",
       "      <th>7</th>\n",
       "      <th>8</th>\n",
       "      <th>9</th>\n",
       "      <th>...</th>\n",
       "      <th>324</th>\n",
       "      <th>325</th>\n",
       "      <th>326</th>\n",
       "      <th>327</th>\n",
       "      <th>328</th>\n",
       "      <th>329</th>\n",
       "      <th>330</th>\n",
       "      <th>331</th>\n",
       "      <th>332</th>\n",
       "      <th>333</th>\n",
       "    </tr>\n",
       "  </thead>\n",
       "  <tbody>\n",
       "    <tr>\n",
       "      <th>0</th>\n",
       "      <td>0.3</td>\n",
       "      <td>joy</td>\n",
       "      <td>0.495712</td>\n",
       "      <td>0.571288</td>\n",
       "      <td>0.464481</td>\n",
       "      <td>0.618228</td>\n",
       "      <td>0.972113</td>\n",
       "      <td>0.504824</td>\n",
       "      <td>0.592429</td>\n",
       "      <td>0.098498</td>\n",
       "      <td>...</td>\n",
       "      <td>0.951113</td>\n",
       "      <td>0.403105</td>\n",
       "      <td>0.111758</td>\n",
       "      <td>0.607339</td>\n",
       "      <td>0.362398</td>\n",
       "      <td>0.435078</td>\n",
       "      <td>0.490667</td>\n",
       "      <td>0.843343</td>\n",
       "      <td>0.231131</td>\n",
       "      <td>0.344476</td>\n",
       "    </tr>\n",
       "    <tr>\n",
       "      <th>1</th>\n",
       "      <td>0.927949</td>\n",
       "      <td>0.116286</td>\n",
       "      <td>0.320838</td>\n",
       "      <td>0.385922</td>\n",
       "      <td>0.983711</td>\n",
       "      <td>0.952596</td>\n",
       "      <td>0.59071</td>\n",
       "      <td>0.713919</td>\n",
       "      <td>0.845945</td>\n",
       "      <td>0.402516</td>\n",
       "      <td>...</td>\n",
       "      <td>0.184803</td>\n",
       "      <td>0.051066</td>\n",
       "      <td>0.416212</td>\n",
       "      <td>0.190429</td>\n",
       "      <td>0.128311</td>\n",
       "      <td>0.007865</td>\n",
       "      <td>0.158212</td>\n",
       "      <td>0.944768</td>\n",
       "      <td>0.174878</td>\n",
       "      <td>0.617332</td>\n",
       "    </tr>\n",
       "    <tr>\n",
       "      <th>2</th>\n",
       "      <td>0.272196</td>\n",
       "      <td>0.088672</td>\n",
       "      <td>0.396562</td>\n",
       "      <td>0.841704</td>\n",
       "      <td>0.677798</td>\n",
       "      <td>0.871856</td>\n",
       "      <td>0.430158</td>\n",
       "      <td>0.674286</td>\n",
       "      <td>0.737469</td>\n",
       "      <td>0.231018</td>\n",
       "      <td>...</td>\n",
       "      <td>0.781041</td>\n",
       "      <td>0.548762</td>\n",
       "      <td>0.881098</td>\n",
       "      <td>0.159184</td>\n",
       "      <td>0.879101</td>\n",
       "      <td>0.124035</td>\n",
       "      <td>0.038281</td>\n",
       "      <td>0.649458</td>\n",
       "      <td>0.134232</td>\n",
       "      <td>0.360412</td>\n",
       "    </tr>\n",
       "    <tr>\n",
       "      <th>3</th>\n",
       "      <td>0.934553</td>\n",
       "      <td>0.306485</td>\n",
       "      <td>0.216025</td>\n",
       "      <td>0.399461</td>\n",
       "      <td>0.411143</td>\n",
       "      <td>0.364614</td>\n",
       "      <td>0.469834</td>\n",
       "      <td>0.956506</td>\n",
       "      <td>0.194869</td>\n",
       "      <td>0.489801</td>\n",
       "      <td>...</td>\n",
       "      <td>0.022504</td>\n",
       "      <td>0.990355</td>\n",
       "      <td>0.327187</td>\n",
       "      <td>0.334693</td>\n",
       "      <td>0.555885</td>\n",
       "      <td>0.601214</td>\n",
       "      <td>0.595858</td>\n",
       "      <td>0.459565</td>\n",
       "      <td>0.407107</td>\n",
       "      <td>0.133578</td>\n",
       "    </tr>\n",
       "    <tr>\n",
       "      <th>4</th>\n",
       "      <td>0.059654</td>\n",
       "      <td>0.11503</td>\n",
       "      <td>0.893714</td>\n",
       "      <td>0.643248</td>\n",
       "      <td>0.223468</td>\n",
       "      <td>0.365387</td>\n",
       "      <td>0.367695</td>\n",
       "      <td>0.173964</td>\n",
       "      <td>0.142866</td>\n",
       "      <td>0.668873</td>\n",
       "      <td>...</td>\n",
       "      <td>0.309245</td>\n",
       "      <td>0.52946</td>\n",
       "      <td>0.981913</td>\n",
       "      <td>0.153735</td>\n",
       "      <td>0.625578</td>\n",
       "      <td>0.771733</td>\n",
       "      <td>0.331494</td>\n",
       "      <td>0.779539</td>\n",
       "      <td>0.592837</td>\n",
       "      <td>0.249501</td>\n",
       "    </tr>\n",
       "  </tbody>\n",
       "</table>\n",
       "<p>5 rows × 334 columns</p>\n",
       "</div>"
      ],
      "text/plain": [
       "        0         1         2         3         4         5         6    \\\n",
       "0       0.3       joy  0.495712  0.571288  0.464481  0.618228  0.972113   \n",
       "1  0.927949  0.116286  0.320838  0.385922  0.983711  0.952596   0.59071   \n",
       "2  0.272196  0.088672  0.396562  0.841704  0.677798  0.871856  0.430158   \n",
       "3  0.934553  0.306485  0.216025  0.399461  0.411143  0.364614  0.469834   \n",
       "4  0.059654   0.11503  0.893714  0.643248  0.223468  0.365387  0.367695   \n",
       "\n",
       "        7         8         9    ...       324       325       326       327  \\\n",
       "0  0.504824  0.592429  0.098498  ...  0.951113  0.403105  0.111758  0.607339   \n",
       "1  0.713919  0.845945  0.402516  ...  0.184803  0.051066  0.416212  0.190429   \n",
       "2  0.674286  0.737469  0.231018  ...  0.781041  0.548762  0.881098  0.159184   \n",
       "3  0.956506  0.194869  0.489801  ...  0.022504  0.990355  0.327187  0.334693   \n",
       "4  0.173964  0.142866  0.668873  ...  0.309245   0.52946  0.981913  0.153735   \n",
       "\n",
       "        328       329       330       331       332       333  \n",
       "0  0.362398  0.435078  0.490667  0.843343  0.231131  0.344476  \n",
       "1  0.128311  0.007865  0.158212  0.944768  0.174878  0.617332  \n",
       "2  0.879101  0.124035  0.038281  0.649458  0.134232  0.360412  \n",
       "3  0.555885  0.601214  0.595858  0.459565  0.407107  0.133578  \n",
       "4  0.625578  0.771733  0.331494  0.779539  0.592837  0.249501  \n",
       "\n",
       "[5 rows x 334 columns]"
      ]
     },
     "execution_count": 43,
     "metadata": {},
     "output_type": "execute_result"
    }
   ],
   "source": [
    "newdf.T"
   ]
  },
  {
   "cell_type": "code",
   "execution_count": 45,
   "metadata": {},
   "outputs": [
    {
     "data": {
      "text/html": [
       "<div>\n",
       "<style scoped>\n",
       "    .dataframe tbody tr th:only-of-type {\n",
       "        vertical-align: middle;\n",
       "    }\n",
       "\n",
       "    .dataframe tbody tr th {\n",
       "        vertical-align: top;\n",
       "    }\n",
       "\n",
       "    .dataframe thead th {\n",
       "        text-align: right;\n",
       "    }\n",
       "</style>\n",
       "<table border=\"1\" class=\"dataframe\">\n",
       "  <thead>\n",
       "    <tr style=\"text-align: right;\">\n",
       "      <th></th>\n",
       "      <th>0</th>\n",
       "      <th>1</th>\n",
       "      <th>2</th>\n",
       "      <th>3</th>\n",
       "      <th>4</th>\n",
       "    </tr>\n",
       "  </thead>\n",
       "  <tbody>\n",
       "    <tr>\n",
       "      <th>0</th>\n",
       "      <td>0.3</td>\n",
       "      <td>0.927949</td>\n",
       "      <td>0.272196</td>\n",
       "      <td>0.934553</td>\n",
       "      <td>0.059654</td>\n",
       "    </tr>\n",
       "    <tr>\n",
       "      <th>1</th>\n",
       "      <td>joy</td>\n",
       "      <td>0.116286</td>\n",
       "      <td>0.088672</td>\n",
       "      <td>0.306485</td>\n",
       "      <td>0.115030</td>\n",
       "    </tr>\n",
       "    <tr>\n",
       "      <th>2</th>\n",
       "      <td>0.495712</td>\n",
       "      <td>0.320838</td>\n",
       "      <td>0.396562</td>\n",
       "      <td>0.216025</td>\n",
       "      <td>0.893714</td>\n",
       "    </tr>\n",
       "    <tr>\n",
       "      <th>3</th>\n",
       "      <td>0.571288</td>\n",
       "      <td>0.385922</td>\n",
       "      <td>0.841704</td>\n",
       "      <td>0.399461</td>\n",
       "      <td>0.643248</td>\n",
       "    </tr>\n",
       "    <tr>\n",
       "      <th>4</th>\n",
       "      <td>0.464481</td>\n",
       "      <td>0.983711</td>\n",
       "      <td>0.677798</td>\n",
       "      <td>0.411143</td>\n",
       "      <td>0.223468</td>\n",
       "    </tr>\n",
       "  </tbody>\n",
       "</table>\n",
       "</div>"
      ],
      "text/plain": [
       "          0         1         2         3         4\n",
       "0       0.3  0.927949  0.272196  0.934553  0.059654\n",
       "1       joy  0.116286  0.088672  0.306485  0.115030\n",
       "2  0.495712  0.320838  0.396562  0.216025  0.893714\n",
       "3  0.571288  0.385922  0.841704  0.399461  0.643248\n",
       "4  0.464481  0.983711  0.677798  0.411143  0.223468"
      ]
     },
     "execution_count": 45,
     "metadata": {},
     "output_type": "execute_result"
    }
   ],
   "source": [
    "newdf.head()"
   ]
  },
  {
   "cell_type": "code",
   "execution_count": 50,
   "metadata": {},
   "outputs": [
    {
     "data": {
      "text/html": [
       "<div>\n",
       "<style scoped>\n",
       "    .dataframe tbody tr th:only-of-type {\n",
       "        vertical-align: middle;\n",
       "    }\n",
       "\n",
       "    .dataframe tbody tr th {\n",
       "        vertical-align: top;\n",
       "    }\n",
       "\n",
       "    .dataframe thead th {\n",
       "        text-align: right;\n",
       "    }\n",
       "</style>\n",
       "<table border=\"1\" class=\"dataframe\">\n",
       "  <thead>\n",
       "    <tr style=\"text-align: right;\">\n",
       "      <th></th>\n",
       "      <th>0</th>\n",
       "      <th>1</th>\n",
       "      <th>2</th>\n",
       "      <th>3</th>\n",
       "      <th>4</th>\n",
       "    </tr>\n",
       "  </thead>\n",
       "  <tbody>\n",
       "    <tr>\n",
       "      <th>333</th>\n",
       "      <td>0.344476</td>\n",
       "      <td>0.617332</td>\n",
       "      <td>0.360412</td>\n",
       "      <td>0.133578</td>\n",
       "      <td>0.249501</td>\n",
       "    </tr>\n",
       "    <tr>\n",
       "      <th>332</th>\n",
       "      <td>0.231131</td>\n",
       "      <td>0.174878</td>\n",
       "      <td>0.134232</td>\n",
       "      <td>0.407107</td>\n",
       "      <td>0.592837</td>\n",
       "    </tr>\n",
       "    <tr>\n",
       "      <th>331</th>\n",
       "      <td>0.843343</td>\n",
       "      <td>0.944768</td>\n",
       "      <td>0.649458</td>\n",
       "      <td>0.459565</td>\n",
       "      <td>0.779539</td>\n",
       "    </tr>\n",
       "    <tr>\n",
       "      <th>330</th>\n",
       "      <td>0.490667</td>\n",
       "      <td>0.158212</td>\n",
       "      <td>0.038281</td>\n",
       "      <td>0.595858</td>\n",
       "      <td>0.331494</td>\n",
       "    </tr>\n",
       "    <tr>\n",
       "      <th>329</th>\n",
       "      <td>0.435078</td>\n",
       "      <td>0.007865</td>\n",
       "      <td>0.124035</td>\n",
       "      <td>0.601214</td>\n",
       "      <td>0.771733</td>\n",
       "    </tr>\n",
       "  </tbody>\n",
       "</table>\n",
       "</div>"
      ],
      "text/plain": [
       "            0         1         2         3         4\n",
       "333  0.344476  0.617332  0.360412  0.133578  0.249501\n",
       "332  0.231131  0.174878  0.134232  0.407107  0.592837\n",
       "331  0.843343  0.944768  0.649458  0.459565  0.779539\n",
       "330  0.490667  0.158212  0.038281  0.595858  0.331494\n",
       "329  0.435078  0.007865  0.124035  0.601214  0.771733"
      ]
     },
     "execution_count": 50,
     "metadata": {},
     "output_type": "execute_result"
    }
   ],
   "source": [
    "newdf.sort_index(axis=0,ascending=False).head()"
   ]
  },
  {
   "cell_type": "code",
   "execution_count": 54,
   "metadata": {},
   "outputs": [
    {
     "data": {
      "text/plain": [
       "pandas.core.series.Series"
      ]
     },
     "execution_count": 54,
     "metadata": {},
     "output_type": "execute_result"
    }
   ],
   "source": [
    "type(newdf[0])             # Combination of Series.. Data Frame generated."
   ]
  },
  {
   "cell_type": "code",
   "execution_count": 55,
   "metadata": {},
   "outputs": [],
   "source": [
    "newdf2=newdf.copy()"
   ]
  },
  {
   "cell_type": "code",
   "execution_count": 57,
   "metadata": {},
   "outputs": [
    {
     "data": {
      "text/html": [
       "<div>\n",
       "<style scoped>\n",
       "    .dataframe tbody tr th:only-of-type {\n",
       "        vertical-align: middle;\n",
       "    }\n",
       "\n",
       "    .dataframe tbody tr th {\n",
       "        vertical-align: top;\n",
       "    }\n",
       "\n",
       "    .dataframe thead th {\n",
       "        text-align: right;\n",
       "    }\n",
       "</style>\n",
       "<table border=\"1\" class=\"dataframe\">\n",
       "  <thead>\n",
       "    <tr style=\"text-align: right;\">\n",
       "      <th></th>\n",
       "      <th>0</th>\n",
       "      <th>1</th>\n",
       "      <th>2</th>\n",
       "      <th>3</th>\n",
       "      <th>4</th>\n",
       "    </tr>\n",
       "  </thead>\n",
       "  <tbody>\n",
       "    <tr>\n",
       "      <th>0</th>\n",
       "      <td>0.3</td>\n",
       "      <td>0.927949</td>\n",
       "      <td>0.272196</td>\n",
       "      <td>0.934553</td>\n",
       "      <td>0.059654</td>\n",
       "    </tr>\n",
       "    <tr>\n",
       "      <th>1</th>\n",
       "      <td>joy</td>\n",
       "      <td>0.116286</td>\n",
       "      <td>0.088672</td>\n",
       "      <td>0.306485</td>\n",
       "      <td>0.115030</td>\n",
       "    </tr>\n",
       "    <tr>\n",
       "      <th>2</th>\n",
       "      <td>0.495712</td>\n",
       "      <td>0.320838</td>\n",
       "      <td>0.396562</td>\n",
       "      <td>0.216025</td>\n",
       "      <td>0.893714</td>\n",
       "    </tr>\n",
       "    <tr>\n",
       "      <th>3</th>\n",
       "      <td>0.571288</td>\n",
       "      <td>0.385922</td>\n",
       "      <td>0.841704</td>\n",
       "      <td>0.399461</td>\n",
       "      <td>0.643248</td>\n",
       "    </tr>\n",
       "    <tr>\n",
       "      <th>4</th>\n",
       "      <td>0.464481</td>\n",
       "      <td>0.983711</td>\n",
       "      <td>0.677798</td>\n",
       "      <td>0.411143</td>\n",
       "      <td>0.223468</td>\n",
       "    </tr>\n",
       "  </tbody>\n",
       "</table>\n",
       "</div>"
      ],
      "text/plain": [
       "          0         1         2         3         4\n",
       "0       0.3  0.927949  0.272196  0.934553  0.059654\n",
       "1       joy  0.116286  0.088672  0.306485  0.115030\n",
       "2  0.495712  0.320838  0.396562  0.216025  0.893714\n",
       "3  0.571288  0.385922  0.841704  0.399461  0.643248\n",
       "4  0.464481  0.983711  0.677798  0.411143  0.223468"
      ]
     },
     "execution_count": 57,
     "metadata": {},
     "output_type": "execute_result"
    }
   ],
   "source": [
    "newdf.head()"
   ]
  },
  {
   "cell_type": "code",
   "execution_count": 58,
   "metadata": {},
   "outputs": [
    {
     "name": "stderr",
     "output_type": "stream",
     "text": [
      "<ipython-input-58-b39d38b26d79>:1: SettingWithCopyWarning: \n",
      "A value is trying to be set on a copy of a slice from a DataFrame\n",
      "\n",
      "See the caveats in the documentation: https://pandas.pydata.org/pandas-docs/stable/user_guide/indexing.html#returning-a-view-versus-a-copy\n",
      "  newdf2[1][0]=11\n"
     ]
    }
   ],
   "source": [
    "newdf2[1][0]=11"
   ]
  },
  {
   "cell_type": "code",
   "execution_count": 59,
   "metadata": {},
   "outputs": [
    {
     "data": {
      "text/html": [
       "<div>\n",
       "<style scoped>\n",
       "    .dataframe tbody tr th:only-of-type {\n",
       "        vertical-align: middle;\n",
       "    }\n",
       "\n",
       "    .dataframe tbody tr th {\n",
       "        vertical-align: top;\n",
       "    }\n",
       "\n",
       "    .dataframe thead th {\n",
       "        text-align: right;\n",
       "    }\n",
       "</style>\n",
       "<table border=\"1\" class=\"dataframe\">\n",
       "  <thead>\n",
       "    <tr style=\"text-align: right;\">\n",
       "      <th></th>\n",
       "      <th>0</th>\n",
       "      <th>1</th>\n",
       "      <th>2</th>\n",
       "      <th>3</th>\n",
       "      <th>4</th>\n",
       "    </tr>\n",
       "  </thead>\n",
       "  <tbody>\n",
       "    <tr>\n",
       "      <th>0</th>\n",
       "      <td>0.3</td>\n",
       "      <td>11.000000</td>\n",
       "      <td>0.272196</td>\n",
       "      <td>0.934553</td>\n",
       "      <td>0.059654</td>\n",
       "    </tr>\n",
       "    <tr>\n",
       "      <th>1</th>\n",
       "      <td>joy</td>\n",
       "      <td>0.116286</td>\n",
       "      <td>0.088672</td>\n",
       "      <td>0.306485</td>\n",
       "      <td>0.115030</td>\n",
       "    </tr>\n",
       "    <tr>\n",
       "      <th>2</th>\n",
       "      <td>0.495712</td>\n",
       "      <td>0.320838</td>\n",
       "      <td>0.396562</td>\n",
       "      <td>0.216025</td>\n",
       "      <td>0.893714</td>\n",
       "    </tr>\n",
       "    <tr>\n",
       "      <th>3</th>\n",
       "      <td>0.571288</td>\n",
       "      <td>0.385922</td>\n",
       "      <td>0.841704</td>\n",
       "      <td>0.399461</td>\n",
       "      <td>0.643248</td>\n",
       "    </tr>\n",
       "    <tr>\n",
       "      <th>4</th>\n",
       "      <td>0.464481</td>\n",
       "      <td>0.983711</td>\n",
       "      <td>0.677798</td>\n",
       "      <td>0.411143</td>\n",
       "      <td>0.223468</td>\n",
       "    </tr>\n",
       "  </tbody>\n",
       "</table>\n",
       "</div>"
      ],
      "text/plain": [
       "          0          1         2         3         4\n",
       "0       0.3  11.000000  0.272196  0.934553  0.059654\n",
       "1       joy   0.116286  0.088672  0.306485  0.115030\n",
       "2  0.495712   0.320838  0.396562  0.216025  0.893714\n",
       "3  0.571288   0.385922  0.841704  0.399461  0.643248\n",
       "4  0.464481   0.983711  0.677798  0.411143  0.223468"
      ]
     },
     "execution_count": 59,
     "metadata": {},
     "output_type": "execute_result"
    }
   ],
   "source": [
    "newdf2.head()"
   ]
  },
  {
   "cell_type": "code",
   "execution_count": 60,
   "metadata": {},
   "outputs": [
    {
     "data": {
      "text/html": [
       "<div>\n",
       "<style scoped>\n",
       "    .dataframe tbody tr th:only-of-type {\n",
       "        vertical-align: middle;\n",
       "    }\n",
       "\n",
       "    .dataframe tbody tr th {\n",
       "        vertical-align: top;\n",
       "    }\n",
       "\n",
       "    .dataframe thead th {\n",
       "        text-align: right;\n",
       "    }\n",
       "</style>\n",
       "<table border=\"1\" class=\"dataframe\">\n",
       "  <thead>\n",
       "    <tr style=\"text-align: right;\">\n",
       "      <th></th>\n",
       "      <th>0</th>\n",
       "      <th>1</th>\n",
       "      <th>2</th>\n",
       "      <th>3</th>\n",
       "      <th>4</th>\n",
       "    </tr>\n",
       "  </thead>\n",
       "  <tbody>\n",
       "    <tr>\n",
       "      <th>0</th>\n",
       "      <td>0.3</td>\n",
       "      <td>0.927949</td>\n",
       "      <td>0.272196</td>\n",
       "      <td>0.934553</td>\n",
       "      <td>0.059654</td>\n",
       "    </tr>\n",
       "    <tr>\n",
       "      <th>1</th>\n",
       "      <td>joy</td>\n",
       "      <td>0.116286</td>\n",
       "      <td>0.088672</td>\n",
       "      <td>0.306485</td>\n",
       "      <td>0.115030</td>\n",
       "    </tr>\n",
       "    <tr>\n",
       "      <th>2</th>\n",
       "      <td>0.495712</td>\n",
       "      <td>0.320838</td>\n",
       "      <td>0.396562</td>\n",
       "      <td>0.216025</td>\n",
       "      <td>0.893714</td>\n",
       "    </tr>\n",
       "    <tr>\n",
       "      <th>3</th>\n",
       "      <td>0.571288</td>\n",
       "      <td>0.385922</td>\n",
       "      <td>0.841704</td>\n",
       "      <td>0.399461</td>\n",
       "      <td>0.643248</td>\n",
       "    </tr>\n",
       "    <tr>\n",
       "      <th>4</th>\n",
       "      <td>0.464481</td>\n",
       "      <td>0.983711</td>\n",
       "      <td>0.677798</td>\n",
       "      <td>0.411143</td>\n",
       "      <td>0.223468</td>\n",
       "    </tr>\n",
       "  </tbody>\n",
       "</table>\n",
       "</div>"
      ],
      "text/plain": [
       "          0         1         2         3         4\n",
       "0       0.3  0.927949  0.272196  0.934553  0.059654\n",
       "1       joy  0.116286  0.088672  0.306485  0.115030\n",
       "2  0.495712  0.320838  0.396562  0.216025  0.893714\n",
       "3  0.571288  0.385922  0.841704  0.399461  0.643248\n",
       "4  0.464481  0.983711  0.677798  0.411143  0.223468"
      ]
     },
     "execution_count": 60,
     "metadata": {},
     "output_type": "execute_result"
    }
   ],
   "source": [
    "newdf.head()"
   ]
  },
  {
   "cell_type": "code",
   "execution_count": 61,
   "metadata": {},
   "outputs": [],
   "source": [
    "newdf2.loc[0,1]=1"
   ]
  },
  {
   "cell_type": "code",
   "execution_count": 62,
   "metadata": {},
   "outputs": [
    {
     "data": {
      "text/html": [
       "<div>\n",
       "<style scoped>\n",
       "    .dataframe tbody tr th:only-of-type {\n",
       "        vertical-align: middle;\n",
       "    }\n",
       "\n",
       "    .dataframe tbody tr th {\n",
       "        vertical-align: top;\n",
       "    }\n",
       "\n",
       "    .dataframe thead th {\n",
       "        text-align: right;\n",
       "    }\n",
       "</style>\n",
       "<table border=\"1\" class=\"dataframe\">\n",
       "  <thead>\n",
       "    <tr style=\"text-align: right;\">\n",
       "      <th></th>\n",
       "      <th>0</th>\n",
       "      <th>1</th>\n",
       "      <th>2</th>\n",
       "      <th>3</th>\n",
       "      <th>4</th>\n",
       "    </tr>\n",
       "  </thead>\n",
       "  <tbody>\n",
       "    <tr>\n",
       "      <th>0</th>\n",
       "      <td>0.3</td>\n",
       "      <td>1.000000</td>\n",
       "      <td>0.272196</td>\n",
       "      <td>0.934553</td>\n",
       "      <td>0.059654</td>\n",
       "    </tr>\n",
       "    <tr>\n",
       "      <th>1</th>\n",
       "      <td>joy</td>\n",
       "      <td>0.116286</td>\n",
       "      <td>0.088672</td>\n",
       "      <td>0.306485</td>\n",
       "      <td>0.115030</td>\n",
       "    </tr>\n",
       "    <tr>\n",
       "      <th>2</th>\n",
       "      <td>0.495712</td>\n",
       "      <td>0.320838</td>\n",
       "      <td>0.396562</td>\n",
       "      <td>0.216025</td>\n",
       "      <td>0.893714</td>\n",
       "    </tr>\n",
       "  </tbody>\n",
       "</table>\n",
       "</div>"
      ],
      "text/plain": [
       "          0         1         2         3         4\n",
       "0       0.3  1.000000  0.272196  0.934553  0.059654\n",
       "1       joy  0.116286  0.088672  0.306485  0.115030\n",
       "2  0.495712  0.320838  0.396562  0.216025  0.893714"
      ]
     },
     "execution_count": 62,
     "metadata": {},
     "output_type": "execute_result"
    }
   ],
   "source": [
    "newdf2.head(3)"
   ]
  },
  {
   "cell_type": "code",
   "execution_count": 73,
   "metadata": {},
   "outputs": [
    {
     "ename": "AttributeError",
     "evalue": "module 'pandas' has no attribute 'to_excel'",
     "output_type": "error",
     "traceback": [
      "\u001b[1;31m---------------------------------------------------------------------------\u001b[0m",
      "\u001b[1;31mAttributeError\u001b[0m                            Traceback (most recent call last)",
      "\u001b[1;32m<ipython-input-73-5b3ee691ac8c>\u001b[0m in \u001b[0;36m<module>\u001b[1;34m\u001b[0m\n\u001b[1;32m----> 1\u001b[1;33m \u001b[0mpd\u001b[0m\u001b[1;33m.\u001b[0m\u001b[0mto_excel\u001b[0m\u001b[1;33m(\u001b[0m\u001b[1;34m'my.xlsx'\u001b[0m\u001b[1;33m,\u001b[0m\u001b[0msheet_name\u001b[0m\u001b[1;33m=\u001b[0m\u001b[1;34m\"sheet1\"\u001b[0m\u001b[1;33m)\u001b[0m\u001b[1;33m\u001b[0m\u001b[1;33m\u001b[0m\u001b[0m\n\u001b[0m",
      "\u001b[1;32mc:\\users\\subhransu das\\anaconda3\\envs\\machinelearningdjango\\lib\\site-packages\\pandas\\__init__.py\u001b[0m in \u001b[0;36m__getattr__\u001b[1;34m(name)\u001b[0m\n\u001b[0;32m    242\u001b[0m         \u001b[1;32mreturn\u001b[0m \u001b[0m_SparseArray\u001b[0m\u001b[1;33m\u001b[0m\u001b[1;33m\u001b[0m\u001b[0m\n\u001b[0;32m    243\u001b[0m \u001b[1;33m\u001b[0m\u001b[0m\n\u001b[1;32m--> 244\u001b[1;33m     \u001b[1;32mraise\u001b[0m \u001b[0mAttributeError\u001b[0m\u001b[1;33m(\u001b[0m\u001b[1;34mf\"module 'pandas' has no attribute '{name}'\"\u001b[0m\u001b[1;33m)\u001b[0m\u001b[1;33m\u001b[0m\u001b[1;33m\u001b[0m\u001b[0m\n\u001b[0m\u001b[0;32m    245\u001b[0m \u001b[1;33m\u001b[0m\u001b[0m\n\u001b[0;32m    246\u001b[0m \u001b[1;33m\u001b[0m\u001b[0m\n",
      "\u001b[1;31mAttributeError\u001b[0m: module 'pandas' has no attribute 'to_excel'"
     ]
    }
   ],
   "source": [
    "pd.to_excel('my.xlsx',sheet_name=\"sheet1\")"
   ]
  },
  {
   "cell_type": "code",
   "execution_count": 74,
   "metadata": {},
   "outputs": [],
   "source": [
    "df1 = pd.DataFrame([['a', 'b'], ['c', 'd']],\n",
    "                   index=['row 1', 'row 2'],\n",
    "                   columns=['col 1', 'col 2'])"
   ]
  },
  {
   "cell_type": "code",
   "execution_count": 80,
   "metadata": {},
   "outputs": [
    {
     "data": {
      "text/plain": [
       "'1.2.4'"
      ]
     },
     "execution_count": 80,
     "metadata": {},
     "output_type": "execute_result"
    }
   ],
   "source": [
    "pd.__version__"
   ]
  },
  {
   "cell_type": "code",
   "execution_count": 82,
   "metadata": {},
   "outputs": [
    {
     "ename": "ValueError",
     "evalue": "No Excel writer 'XlsxWriter'",
     "output_type": "error",
     "traceback": [
      "\u001b[1;31m---------------------------------------------------------------------------\u001b[0m",
      "\u001b[1;31mKeyError\u001b[0m                                  Traceback (most recent call last)",
      "\u001b[1;32mc:\\users\\subhransu das\\anaconda3\\envs\\machinelearningdjango\\lib\\site-packages\\pandas\\io\\excel\\_util.py\u001b[0m in \u001b[0;36mget_writer\u001b[1;34m(engine_name)\u001b[0m\n\u001b[0;32m     55\u001b[0m     \u001b[1;32mtry\u001b[0m\u001b[1;33m:\u001b[0m\u001b[1;33m\u001b[0m\u001b[1;33m\u001b[0m\u001b[0m\n\u001b[1;32m---> 56\u001b[1;33m         \u001b[1;32mreturn\u001b[0m \u001b[0m_writers\u001b[0m\u001b[1;33m[\u001b[0m\u001b[0mengine_name\u001b[0m\u001b[1;33m]\u001b[0m\u001b[1;33m\u001b[0m\u001b[1;33m\u001b[0m\u001b[0m\n\u001b[0m\u001b[0;32m     57\u001b[0m     \u001b[1;32mexcept\u001b[0m \u001b[0mKeyError\u001b[0m \u001b[1;32mas\u001b[0m \u001b[0merr\u001b[0m\u001b[1;33m:\u001b[0m\u001b[1;33m\u001b[0m\u001b[1;33m\u001b[0m\u001b[0m\n",
      "\u001b[1;31mKeyError\u001b[0m: 'XlsxWriter'",
      "\nThe above exception was the direct cause of the following exception:\n",
      "\u001b[1;31mValueError\u001b[0m                                Traceback (most recent call last)",
      "\u001b[1;32m<ipython-input-82-fc283279caf0>\u001b[0m in \u001b[0;36m<module>\u001b[1;34m\u001b[0m\n\u001b[1;32m----> 1\u001b[1;33m \u001b[0mdf1\u001b[0m\u001b[1;33m.\u001b[0m\u001b[0mto_excel\u001b[0m\u001b[1;33m(\u001b[0m\u001b[1;34m'output1.xlsx'\u001b[0m\u001b[1;33m,\u001b[0m \u001b[0mengine\u001b[0m\u001b[1;33m=\u001b[0m\u001b[1;34m'XlsxWriter'\u001b[0m\u001b[1;33m)\u001b[0m\u001b[1;33m\u001b[0m\u001b[1;33m\u001b[0m\u001b[0m\n\u001b[0m",
      "\u001b[1;32mc:\\users\\subhransu das\\anaconda3\\envs\\machinelearningdjango\\lib\\site-packages\\pandas\\core\\generic.py\u001b[0m in \u001b[0;36mto_excel\u001b[1;34m(self, excel_writer, sheet_name, na_rep, float_format, columns, header, index, index_label, startrow, startcol, engine, merge_cells, encoding, inf_rep, verbose, freeze_panes, storage_options)\u001b[0m\n\u001b[0;32m   2187\u001b[0m             \u001b[0minf_rep\u001b[0m\u001b[1;33m=\u001b[0m\u001b[0minf_rep\u001b[0m\u001b[1;33m,\u001b[0m\u001b[1;33m\u001b[0m\u001b[1;33m\u001b[0m\u001b[0m\n\u001b[0;32m   2188\u001b[0m         )\n\u001b[1;32m-> 2189\u001b[1;33m         formatter.write(\n\u001b[0m\u001b[0;32m   2190\u001b[0m             \u001b[0mexcel_writer\u001b[0m\u001b[1;33m,\u001b[0m\u001b[1;33m\u001b[0m\u001b[1;33m\u001b[0m\u001b[0m\n\u001b[0;32m   2191\u001b[0m             \u001b[0msheet_name\u001b[0m\u001b[1;33m=\u001b[0m\u001b[0msheet_name\u001b[0m\u001b[1;33m,\u001b[0m\u001b[1;33m\u001b[0m\u001b[1;33m\u001b[0m\u001b[0m\n",
      "\u001b[1;32mc:\\users\\subhransu das\\anaconda3\\envs\\machinelearningdjango\\lib\\site-packages\\pandas\\io\\formats\\excel.py\u001b[0m in \u001b[0;36mwrite\u001b[1;34m(self, writer, sheet_name, startrow, startcol, freeze_panes, engine, storage_options)\u001b[0m\n\u001b[0;32m    813\u001b[0m             \u001b[1;31m# abstract class 'ExcelWriter' with abstract attributes 'engine',\u001b[0m\u001b[1;33m\u001b[0m\u001b[1;33m\u001b[0m\u001b[1;33m\u001b[0m\u001b[0m\n\u001b[0;32m    814\u001b[0m             \u001b[1;31m# 'save', 'supported_extensions' and 'write_cells'  [abstract]\u001b[0m\u001b[1;33m\u001b[0m\u001b[1;33m\u001b[0m\u001b[1;33m\u001b[0m\u001b[0m\n\u001b[1;32m--> 815\u001b[1;33m             writer = ExcelWriter(  # type: ignore[abstract]\n\u001b[0m\u001b[0;32m    816\u001b[0m                 \u001b[0mwriter\u001b[0m\u001b[1;33m,\u001b[0m \u001b[0mengine\u001b[0m\u001b[1;33m=\u001b[0m\u001b[0mengine\u001b[0m\u001b[1;33m,\u001b[0m \u001b[0mstorage_options\u001b[0m\u001b[1;33m=\u001b[0m\u001b[0mstorage_options\u001b[0m\u001b[1;33m\u001b[0m\u001b[1;33m\u001b[0m\u001b[0m\n\u001b[0;32m    817\u001b[0m             )\n",
      "\u001b[1;32mc:\\users\\subhransu das\\anaconda3\\envs\\machinelearningdjango\\lib\\site-packages\\pandas\\io\\excel\\_base.py\u001b[0m in \u001b[0;36m__new__\u001b[1;34m(cls, path, engine, **kwargs)\u001b[0m\n\u001b[0;32m    736\u001b[0m                     )\n\u001b[0;32m    737\u001b[0m \u001b[1;33m\u001b[0m\u001b[0m\n\u001b[1;32m--> 738\u001b[1;33m             \u001b[0mcls\u001b[0m \u001b[1;33m=\u001b[0m \u001b[0mget_writer\u001b[0m\u001b[1;33m(\u001b[0m\u001b[0mengine\u001b[0m\u001b[1;33m)\u001b[0m\u001b[1;33m\u001b[0m\u001b[1;33m\u001b[0m\u001b[0m\n\u001b[0m\u001b[0;32m    739\u001b[0m \u001b[1;33m\u001b[0m\u001b[0m\n\u001b[0;32m    740\u001b[0m         \u001b[1;32mreturn\u001b[0m \u001b[0mobject\u001b[0m\u001b[1;33m.\u001b[0m\u001b[0m__new__\u001b[0m\u001b[1;33m(\u001b[0m\u001b[0mcls\u001b[0m\u001b[1;33m)\u001b[0m\u001b[1;33m\u001b[0m\u001b[1;33m\u001b[0m\u001b[0m\n",
      "\u001b[1;32mc:\\users\\subhransu das\\anaconda3\\envs\\machinelearningdjango\\lib\\site-packages\\pandas\\io\\excel\\_util.py\u001b[0m in \u001b[0;36mget_writer\u001b[1;34m(engine_name)\u001b[0m\n\u001b[0;32m     56\u001b[0m         \u001b[1;32mreturn\u001b[0m \u001b[0m_writers\u001b[0m\u001b[1;33m[\u001b[0m\u001b[0mengine_name\u001b[0m\u001b[1;33m]\u001b[0m\u001b[1;33m\u001b[0m\u001b[1;33m\u001b[0m\u001b[0m\n\u001b[0;32m     57\u001b[0m     \u001b[1;32mexcept\u001b[0m \u001b[0mKeyError\u001b[0m \u001b[1;32mas\u001b[0m \u001b[0merr\u001b[0m\u001b[1;33m:\u001b[0m\u001b[1;33m\u001b[0m\u001b[1;33m\u001b[0m\u001b[0m\n\u001b[1;32m---> 58\u001b[1;33m         \u001b[1;32mraise\u001b[0m \u001b[0mValueError\u001b[0m\u001b[1;33m(\u001b[0m\u001b[1;34mf\"No Excel writer '{engine_name}'\"\u001b[0m\u001b[1;33m)\u001b[0m \u001b[1;32mfrom\u001b[0m \u001b[0merr\u001b[0m\u001b[1;33m\u001b[0m\u001b[1;33m\u001b[0m\u001b[0m\n\u001b[0m\u001b[0;32m     59\u001b[0m \u001b[1;33m\u001b[0m\u001b[0m\n\u001b[0;32m     60\u001b[0m \u001b[1;33m\u001b[0m\u001b[0m\n",
      "\u001b[1;31mValueError\u001b[0m: No Excel writer 'XlsxWriter'"
     ]
    }
   ],
   "source": [
    "df1.to_excel('output1.xlsx', engine='xlsxwriter')"
   ]
  },
  {
   "cell_type": "code",
   "execution_count": null,
   "metadata": {},
   "outputs": [],
   "source": []
  }
 ],
 "metadata": {
  "kernelspec": {
   "display_name": "Python 3",
   "language": "python",
   "name": "python3"
  },
  "language_info": {
   "codemirror_mode": {
    "name": "ipython",
    "version": 3
   },
   "file_extension": ".py",
   "mimetype": "text/x-python",
   "name": "python",
   "nbconvert_exporter": "python",
   "pygments_lexer": "ipython3",
   "version": "3.9.4"
  }
 },
 "nbformat": 4,
 "nbformat_minor": 2
}
